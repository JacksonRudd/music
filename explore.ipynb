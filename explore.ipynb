{
 "cells": [
  {
   "cell_type": "code",
   "execution_count": null,
   "metadata": {},
   "outputs": [],
   "source": [
    "from loop import get_root\n",
    "\n",
    "root = get_root(5000)"
   ]
  },
  {
   "cell_type": "code",
   "execution_count": null,
   "metadata": {},
   "outputs": [],
   "source": [
    "root.search(['ONE', 'MAJ TWO', 'FOUR']).pchildren().psongs()"
   ]
  },
  {
   "cell_type": "code",
   "execution_count": 35,
   "metadata": {},
   "outputs": [],
   "source": [
    "import pickle \n",
    "\n",
    "filehandler = open('root.pkl', 'wb') \n",
    "pickle.dump(root, filehandler)"
   ]
  },
  {
   "cell_type": "code",
   "execution_count": 36,
   "metadata": {},
   "outputs": [
    {
     "ename": "FileNotFoundError",
     "evalue": "[Errno 2] No such file or directory: 'list.pkl'",
     "output_type": "error",
     "traceback": [
      "\u001b[1;31m---------------------------------------------------------------------------\u001b[0m",
      "\u001b[1;31mFileNotFoundError\u001b[0m                         Traceback (most recent call last)",
      "\u001b[1;32mc:\\Users\\jarudd\\source\\repos\\proj\\explore.ipynb Cell 4\u001b[0m in \u001b[0;36m<cell line: 1>\u001b[1;34m()\u001b[0m\n\u001b[1;32m----> <a href='vscode-notebook-cell:/c%3A/Users/jarudd/source/repos/proj/explore.ipynb#ch0000004?line=0'>1</a>\u001b[0m fileo \u001b[39m=\u001b[39m \u001b[39mopen\u001b[39;49m(\u001b[39m'\u001b[39;49m\u001b[39mlist.pkl\u001b[39;49m\u001b[39m'\u001b[39;49m, \u001b[39m'\u001b[39;49m\u001b[39mrb\u001b[39;49m\u001b[39m'\u001b[39;49m)\n\u001b[0;32m      <a href='vscode-notebook-cell:/c%3A/Users/jarudd/source/repos/proj/explore.ipynb#ch0000004?line=1'>2</a>\u001b[0m \u001b[39m# loading data\u001b[39;00m\n\u001b[0;32m      <a href='vscode-notebook-cell:/c%3A/Users/jarudd/source/repos/proj/explore.ipynb#ch0000004?line=2'>3</a>\u001b[0m datao \u001b[39m=\u001b[39m pickle\u001b[39m.\u001b[39mload(fileo)\n",
      "\u001b[1;31mFileNotFoundError\u001b[0m: [Errno 2] No such file or directory: 'list.pkl'"
     ]
    }
   ],
   "source": [
    "fileo = open('list.pkl', 'rb')\n",
    "# loading data\n",
    "datao = pickle.load(fileo)"
   ]
  }
 ],
 "metadata": {
  "kernelspec": {
   "display_name": "Python 3.9.2 ('venv': venv)",
   "language": "python",
   "name": "python3"
  },
  "language_info": {
   "codemirror_mode": {
    "name": "ipython",
    "version": 3
   },
   "file_extension": ".py",
   "mimetype": "text/x-python",
   "name": "python",
   "nbconvert_exporter": "python",
   "pygments_lexer": "ipython3",
   "version": "3.9.2"
  },
  "orig_nbformat": 4,
  "vscode": {
   "interpreter": {
    "hash": "59861a3f16b24ccf045519e19fd3c12e3e13514280473680565c5801b74878e0"
   }
  }
 },
 "nbformat": 4,
 "nbformat_minor": 2
}
